{
 "cells": [
  {
   "cell_type": "code",
   "execution_count": 1,
   "metadata": {},
   "outputs": [
    {
     "name": "stdout",
     "output_type": "stream",
     "text": [
      "Accuracy: 0.7135416666666666\n"
     ]
    }
   ],
   "source": [
    "# import libraries\n",
    "import numpy as np\n",
    "import pandas as pd\n",
    "import matplotlib.pyplot as plt\n",
    "\n",
    "# read dataset from csv file\n",
    "dataset = pd.read_csv('data\\diabetes.csv')\n",
    "\n",
    "# display first five observations\n",
    "dataset.head(5)\n",
    "\n",
    "# get shape of dataset, number of observations, number of features\n",
    "\n",
    "dataset.shape\n",
    "\n",
    "# get information on data distribution\n",
    "#Mostramos un resumen de los atributos.\n",
    "#El valor count es 768 en todas las características, por lo que no tenemos ningún valor perdido.\n",
    "#Entre los atributos mean, es el valor medio, y std, es la desviación estándar o la variación en la propagación de valores.\n",
    "dataset.describe()\n",
    "\n",
    "# plot correlation between features\n",
    "#Antes de continuar con la clasificación, verificamos la correlación entre nuestras características \n",
    "#para que no tengamos características redundantes\n",
    "corr = dataset.corr() # data frame correlation function\n",
    "fig, ax = plt.subplots(figsize=(13, 13))\n",
    "ax.matshow(corr) # color code the rectangles by correlation value\n",
    "plt.xticks(range(len(corr.columns)), corr.columns) # draw x tick marks\n",
    "plt.yticks(range(len(corr.columns)), corr.columns) # draw y tick marks\n",
    "#El gráfico no indica ninguna correlación de 1 a 1 entre las características, por lo que todas \n",
    "#as características son informativas y proporcionan la discriminación.\n",
    "\n",
    "\n",
    "# create features and labels\n",
    "features = dataset.drop(['Outcome'], axis=1)\n",
    "labels = dataset['Outcome']\n",
    "\n",
    "# split dataset into training set and test set\n",
    "from sklearn.model_selection import train_test_split\n",
    "features_train, features_test, labels_train, labels_test = train_test_split(features, labels, test_size=0.25)\n",
    "\n",
    "# import nearest neighbor classifier\n",
    "from sklearn.neighbors import KNeighborsClassifier\n",
    "classifier = KNeighborsClassifier()\n",
    "\n",
    "# fit data\n",
    "classifier.fit(features_train, labels_train)\n",
    "\n",
    "# get predicted class labels\n",
    "pred = classifier.predict(features_test)\n",
    "\n",
    "# get accuracy of model on test set\n",
    "from sklearn.metrics import accuracy_score\n",
    "accuracy = accuracy_score(labels_test, pred)\n",
    "print('Accuracy: {}'.format(accuracy))"
   ]
  },
  {
   "cell_type": "code",
   "execution_count": null,
   "metadata": {},
   "outputs": [],
   "source": []
  }
 ],
 "metadata": {
  "kernelspec": {
   "display_name": "Python 3",
   "language": "python",
   "name": "python3"
  },
  "language_info": {
   "codemirror_mode": {
    "name": "ipython",
    "version": 3
   },
   "file_extension": ".py",
   "mimetype": "text/x-python",
   "name": "python",
   "nbconvert_exporter": "python",
   "pygments_lexer": "ipython3",
   "version": "3.6.4"
  }
 },
 "nbformat": 4,
 "nbformat_minor": 2
}
