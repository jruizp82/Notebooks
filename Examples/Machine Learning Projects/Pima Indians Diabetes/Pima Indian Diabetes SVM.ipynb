{
 "cells": [
  {
   "cell_type": "code",
   "execution_count": 1,
   "metadata": {},
   "outputs": [
    {
     "name": "stdout",
     "output_type": "stream",
     "text": [
      "Accuracy: 0.5989583333333334\n"
     ]
    }
   ],
   "source": [
    "# import libraries\n",
    "\n",
    "import numpy as np\n",
    "import pandas as pd\n",
    "import matplotlib.pyplot as plt\n",
    "\n",
    "# read dataset from csv file\n",
    "dataset = pd.read_csv('data\\diabetes.csv')\n",
    "\n",
    "# create features and labels\n",
    "features = dataset.drop(['Outcome'], axis=1)\n",
    "labels = dataset['Outcome']\n",
    "\n",
    "# split dataset into training set and test set\n",
    "from sklearn.model_selection import train_test_split\n",
    "features_train, features_test, labels_train, labels_test = train_test_split(features, labels, test_size=0.25)\n",
    "\n",
    "# import support vector machine classifier\n",
    "from sklearn.svm import SVC\n",
    "classifier = SVC()\n",
    "\n",
    "# fit data\n",
    "classifier.fit(features_train, labels_train)\n",
    "\n",
    "# get predicted class labels\n",
    "pred = classifier.predict(features_test)\n",
    "\n",
    "# get accuracy of model on test set\n",
    "from sklearn.metrics import accuracy_score\n",
    "accuracy = accuracy_score(labels_test, pred)\n",
    "print('Accuracy: {}'.format(accuracy))"
   ]
  },
  {
   "cell_type": "code",
   "execution_count": 2,
   "metadata": {},
   "outputs": [
    {
     "name": "stdout",
     "output_type": "stream",
     "text": [
      "Accuracy: 0.7395833333333334\n"
     ]
    }
   ],
   "source": [
    "#Vamos a probar con un kernel lineal.\n",
    "classifier2 = SVC(kernel='linear')\n",
    "classifier2.fit(features_train, labels_train)\n",
    "pred2 = classifier2.predict(features_test)\n",
    "accuracy2 = accuracy_score(labels_test, pred2)\n",
    "print('Accuracy: {}'.format(accuracy2))\n",
    "\n",
    "#Cuando usamos un linear kernel nuestra precisión aumenta.\n",
    "#This is an important lesson in machine learning as often times we do not know beforehand what the best hyperparameters are. \n",
    "#So we need to experiment with several values before we can settle on the best performing hyperparameters."
   ]
  },
  {
   "cell_type": "code",
   "execution_count": null,
   "metadata": {},
   "outputs": [],
   "source": []
  }
 ],
 "metadata": {
  "kernelspec": {
   "display_name": "Python 3",
   "language": "python",
   "name": "python3"
  },
  "language_info": {
   "codemirror_mode": {
    "name": "ipython",
    "version": 3
   },
   "file_extension": ".py",
   "mimetype": "text/x-python",
   "name": "python",
   "nbconvert_exporter": "python",
   "pygments_lexer": "ipython3",
   "version": "3.6.4"
  }
 },
 "nbformat": 4,
 "nbformat_minor": 2
}
