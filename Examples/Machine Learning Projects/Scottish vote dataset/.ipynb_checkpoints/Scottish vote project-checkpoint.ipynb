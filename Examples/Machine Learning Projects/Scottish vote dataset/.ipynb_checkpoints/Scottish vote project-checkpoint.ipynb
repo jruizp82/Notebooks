{
 "cells": [
  {
   "cell_type": "code",
   "execution_count": 1,
   "metadata": {},
   "outputs": [
    {
     "name": "stderr",
     "output_type": "stream",
     "text": [
      "C:\\Users\\RUIZ\\Anaconda3\\lib\\site-packages\\statsmodels\\compat\\pandas.py:56: FutureWarning: The pandas.core.datetools module is deprecated and will be removed in a future version. Please use the pandas.tseries module instead.\n",
      "  from pandas.core import datetools\n"
     ]
    }
   ],
   "source": [
    "#Importamos el paquete Statsmodels\n",
    "import statsmodels.api as sm"
   ]
  },
  {
   "cell_type": "code",
   "execution_count": 2,
   "metadata": {},
   "outputs": [],
   "source": [
    "#Cargamos el dataset y extraemos la variable explicativa\n",
    "data = sm.datasets.scotland.load()\n",
    "# data.exog is the independent variable X\n",
    "data.exog = sm.add_constant(data.exog)"
   ]
  },
  {
   "cell_type": "code",
   "execution_count": 3,
   "metadata": {},
   "outputs": [],
   "source": [
    "# Instantiate a poisson family model with the default link function.\n",
    "poisson_model = sm.GLM(data.endog, data.exog, family=sm.families.Poisson())"
   ]
  },
  {
   "cell_type": "code",
   "execution_count": 4,
   "metadata": {},
   "outputs": [],
   "source": [
    "#Ajustamos el modelo a los datos.\n",
    "poisson_results = poisson_model.fit()"
   ]
  },
  {
   "cell_type": "code",
   "execution_count": 5,
   "metadata": {},
   "outputs": [
    {
     "name": "stdout",
     "output_type": "stream",
     "text": [
      "                 Generalized Linear Model Regression Results                  \n",
      "==============================================================================\n",
      "Dep. Variable:                      y   No. Observations:                   32\n",
      "Model:                            GLM   Df Residuals:                       24\n",
      "Model Family:                 Poisson   Df Model:                            7\n",
      "Link Function:                    log   Scale:                             1.0\n",
      "Method:                          IRLS   Log-Likelihood:                -97.798\n",
      "Date:                Sun, 09 Sep 2018   Deviance:                       5.1846\n",
      "Time:                        22:42:26   Pearson chi2:                     5.14\n",
      "No. Iterations:                     4                                         \n",
      "==============================================================================\n",
      "                 coef    std err          z      P>|z|      [0.025      0.975]\n",
      "------------------------------------------------------------------------------\n",
      "const          5.7793      1.477      3.913      0.000       2.885       8.674\n",
      "x1            -0.0025      0.002     -1.183      0.237      -0.007       0.002\n",
      "x2            -0.1046      0.068     -1.545      0.122      -0.237       0.028\n",
      "x3             0.0045      0.004      1.285      0.199      -0.002       0.011\n",
      "x4            -0.0069      0.005     -1.255      0.210      -0.018       0.004\n",
      "x5          8.237e-06   1.58e-05      0.521      0.602   -2.27e-05    3.92e-05\n",
      "x6             0.0310      0.032      0.980      0.327      -0.031       0.093\n",
      "x7             0.0001   9.52e-05      1.286      0.198   -6.41e-05       0.000\n",
      "==============================================================================\n"
     ]
    }
   ],
   "source": [
    "#Imprimimos un resumen de resultados para entender mejor el modelo entrenado.\n",
    "print(poisson_results.summary())\n",
    "#El resumen contiene valores como los coeficientes y pesos para variables independientes, error estandar y z scores."
   ]
  },
  {
   "cell_type": "code",
   "execution_count": null,
   "metadata": {},
   "outputs": [],
   "source": []
  }
 ],
 "metadata": {
  "kernelspec": {
   "display_name": "Python 3",
   "language": "python",
   "name": "python3"
  },
  "language_info": {
   "codemirror_mode": {
    "name": "ipython",
    "version": 3
   },
   "file_extension": ".py",
   "mimetype": "text/x-python",
   "name": "python",
   "nbconvert_exporter": "python",
   "pygments_lexer": "ipython3",
   "version": "3.6.4"
  }
 },
 "nbformat": 4,
 "nbformat_minor": 2
}
