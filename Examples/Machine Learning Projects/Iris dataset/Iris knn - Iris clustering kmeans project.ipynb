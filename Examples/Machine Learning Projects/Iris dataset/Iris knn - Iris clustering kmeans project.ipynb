{
 "cells": [
  {
   "cell_type": "code",
   "execution_count": 1,
   "metadata": {},
   "outputs": [],
   "source": [
    "import numpy as np\n",
    "import pandas as pd\n",
    "import matplotlib.pyplot as plt\n",
    "import scipy as sp"
   ]
  },
  {
   "cell_type": "code",
   "execution_count": 2,
   "metadata": {},
   "outputs": [
    {
     "data": {
      "text/html": [
       "<div>\n",
       "<style scoped>\n",
       "    .dataframe tbody tr th:only-of-type {\n",
       "        vertical-align: middle;\n",
       "    }\n",
       "\n",
       "    .dataframe tbody tr th {\n",
       "        vertical-align: top;\n",
       "    }\n",
       "\n",
       "    .dataframe thead th {\n",
       "        text-align: right;\n",
       "    }\n",
       "</style>\n",
       "<table border=\"1\" class=\"dataframe\">\n",
       "  <thead>\n",
       "    <tr style=\"text-align: right;\">\n",
       "      <th></th>\n",
       "      <th>Id</th>\n",
       "      <th>SepalLengthCm</th>\n",
       "      <th>SepalWidthCm</th>\n",
       "      <th>PetalLengthCm</th>\n",
       "      <th>PetalWidthCm</th>\n",
       "      <th>Species</th>\n",
       "    </tr>\n",
       "  </thead>\n",
       "  <tbody>\n",
       "    <tr>\n",
       "      <th>0</th>\n",
       "      <td>1</td>\n",
       "      <td>5.1</td>\n",
       "      <td>3.5</td>\n",
       "      <td>1.4</td>\n",
       "      <td>0.2</td>\n",
       "      <td>Iris-setosa</td>\n",
       "    </tr>\n",
       "    <tr>\n",
       "      <th>1</th>\n",
       "      <td>2</td>\n",
       "      <td>4.9</td>\n",
       "      <td>3.0</td>\n",
       "      <td>1.4</td>\n",
       "      <td>0.2</td>\n",
       "      <td>Iris-setosa</td>\n",
       "    </tr>\n",
       "    <tr>\n",
       "      <th>2</th>\n",
       "      <td>3</td>\n",
       "      <td>4.7</td>\n",
       "      <td>3.2</td>\n",
       "      <td>1.3</td>\n",
       "      <td>0.2</td>\n",
       "      <td>Iris-setosa</td>\n",
       "    </tr>\n",
       "    <tr>\n",
       "      <th>3</th>\n",
       "      <td>4</td>\n",
       "      <td>4.6</td>\n",
       "      <td>3.1</td>\n",
       "      <td>1.5</td>\n",
       "      <td>0.2</td>\n",
       "      <td>Iris-setosa</td>\n",
       "    </tr>\n",
       "    <tr>\n",
       "      <th>4</th>\n",
       "      <td>5</td>\n",
       "      <td>5.0</td>\n",
       "      <td>3.6</td>\n",
       "      <td>1.4</td>\n",
       "      <td>0.2</td>\n",
       "      <td>Iris-setosa</td>\n",
       "    </tr>\n",
       "  </tbody>\n",
       "</table>\n",
       "</div>"
      ],
      "text/plain": [
       "   Id  SepalLengthCm  SepalWidthCm  PetalLengthCm  PetalWidthCm      Species\n",
       "0   1            5.1           3.5            1.4           0.2  Iris-setosa\n",
       "1   2            4.9           3.0            1.4           0.2  Iris-setosa\n",
       "2   3            4.7           3.2            1.3           0.2  Iris-setosa\n",
       "3   4            4.6           3.1            1.5           0.2  Iris-setosa\n",
       "4   5            5.0           3.6            1.4           0.2  Iris-setosa"
      ]
     },
     "execution_count": 2,
     "metadata": {},
     "output_type": "execute_result"
    }
   ],
   "source": [
    "dataset = pd.read_csv('data\\Iris.xls')\n",
    "dataset.head(5)\n",
    "#Vemos que hay 4 predictores - sepal length, sepal width, petal length y petal width. Species es la variable target\n",
    "#que estamos interesados en predecir. Ya que se tratan de 3 clases de especies que queremos predecir se trata\n",
    "#de un problema de multiclasificación."
   ]
  },
  {
   "cell_type": "code",
   "execution_count": 3,
   "metadata": {},
   "outputs": [],
   "source": [
    "#Vamos a separar las columnas en características (X) y targets (y).\n",
    "X = dataset.iloc[:, 1:5].values # select features ignoring non-informative column Id\n",
    "y = dataset.iloc[:, 5].values # Species contains targets for our model"
   ]
  },
  {
   "cell_type": "code",
   "execution_count": 4,
   "metadata": {},
   "outputs": [],
   "source": [
    "#Nuestros targets están almacenados como texto. Vamos a transformarlos en variables categóricas.\n",
    "#Utilizaremos el Scikit-Learn label encoder\n",
    "from sklearn.preprocessing import LabelEncoder\n",
    "le = LabelEncoder()\n",
    "y = le.fit_transform(y) # transform species names into categorical values"
   ]
  },
  {
   "cell_type": "code",
   "execution_count": 5,
   "metadata": {},
   "outputs": [],
   "source": [
    "#Dividimos el dataset en training set y test set para evaluar nuestro modelo entrenado apropiadamente\n",
    "from sklearn.model_selection import train_test_split\n",
    "X_train, X_test, y_train, y_test = train_test_split(X, y, test_size = 0.3)"
   ]
  },
  {
   "cell_type": "code",
   "execution_count": 6,
   "metadata": {},
   "outputs": [],
   "source": [
    "#We would now implement a working version in Python. The most important part of K-NN algorithm is the similarity metric \n",
    "#which in this case is a distance measure. There are several distance metrics but we would use Euclidean distance \n",
    "#which is the straight line distance between two points in a Euclidean plane. The plane may be 2-dimensional, 3-dimensional etc. \n",
    "#Euclidean distance is sometimes referred to as L2 distance.\n",
    "#The L2 distance is computed from the test sample to every sample in the training set to determine how close they are. \n",
    "#We can implement L2 distance in Python using Numpy as shown below.\n",
    "\n",
    "def euclidean_distance(training_set, test_instance):\n",
    "    # number of samples inside training set\n",
    "    n_samples = training_set.shape[0]\n",
    "    \n",
    "    # create array for distances\n",
    "    distances = np.empty(n_samples, dtype=np.float64)\n",
    "    \n",
    "    # euclidean distance calculation\n",
    "    for i in range(n_samples):\n",
    "        distances[i] = np.sqrt(np.sum(np.square(test_instance - training_set[i])))\n",
    "    return distances    "
   ]
  },
  {
   "cell_type": "code",
   "execution_count": 7,
   "metadata": {},
   "outputs": [],
   "source": [
    "#Having implemented the similarity metric, we can build out a full fledged class that is capable of identifying \n",
    "#nearest neighbors and returning a classification. It should be noted that the K-Nearest Neighbor algorithm \n",
    "#has no training phase. It simply stores all data points in memory. It only performs computation during test time \n",
    "#when it is calculating distances and returning predictions. Here is an implementation of the K-NN algorithm that \n",
    "#utilizes the distance function defined above.\n",
    "\n",
    "class MyKNeighborsClassifier():\n",
    "    \"\"\"\n",
    "\n",
    "    Vanilla implementation of KNN algorithm.\n",
    "\n",
    "    \"\"\"\n",
    "    \n",
    "    def __init__(self, n_neighbors=5):\n",
    "        self.n_neighbors=n_neighbors\n",
    "    \n",
    "    def fit(self, X, y):\n",
    "        \"\"\"\n",
    "        Fit the model using X as array of features and y as array of labels.\n",
    "\n",
    "        \"\"\"\n",
    "        n_samples = X.shape[0]\n",
    "        \n",
    "        # number of neighbors can't be larger then number of samples\n",
    "        if self.n_neighbors > n_samples:\n",
    "            raise ValueError(\"Number of neighbors can't be larger then number of samples in training set.\")\n",
    "        \n",
    "        # X and y need to have the same number of samples\n",
    "        if X.shape[0] != y.shape[0]:\n",
    "            raise ValueError(\"Number of samples in X and y need to be equal.\")\n",
    "        \n",
    "        # finding and saving all possible class labels\n",
    "        self.classes_ = np.unique(y)\n",
    "        \n",
    "        self.X = X\n",
    "        self.y = y\n",
    "    \n",
    "    def pred_from_neighbors(self, training_set, labels, test_instance, k):\n",
    "        distances = euclidean_distance(training_set, test_instance)\n",
    "        \n",
    "        # combining arrays as columns\n",
    "        distances = sp.c_[distances, labels]\n",
    "        \n",
    "        # sorting array by value of first column\n",
    "        sorted_distances = distances[distances[:,0].argsort()]\n",
    "        \n",
    "        # selecting labels associeted with k smallest distances\n",
    "        targets = sorted_distances[0:k,1]\n",
    "        \n",
    "        unique, counts = np.unique(targets, return_counts=True)\n",
    "        return(unique[np.argmax(counts)])\n",
    "    \n",
    "    def predict(self, X_test):\n",
    "        \n",
    "        # number of predictions to make and number of features inside single sample\n",
    "        n_predictions, n_features = X_test.shape\n",
    "        \n",
    "        # allocationg space for array of predictions\n",
    "        predictions = np.empty(n_predictions, dtype=int)\n",
    "        \n",
    "        # loop over all observations\n",
    "        for i in range(n_predictions):\n",
    "            # calculation of single prediction\n",
    "            predictions[i] = self.pred_from_neighbors(self.X, self.y, X_test[i, :], self.n_neighbors)\n",
    "        return(predictions)\n",
    "\n",
    "#The workflow of the class above is that during test time, a test sample (instance) is supplied and the Euclidean distance \n",
    "#to every sample in the entire training set is calculated. Depending on the value of nearest neighbors to consider, \n",
    "#the labels of those neighbors participate in a vote to determine the class of the test sample."
   ]
  },
  {
   "cell_type": "code",
   "execution_count": 8,
   "metadata": {},
   "outputs": [],
   "source": [
    "#In order to generate a response or create a prediction, we first have to initialize our custom classifier. \n",
    "#The value of k, cannot exceed the number of samples in our dataset. This is to be expected because we cannot compare \n",
    "#with a greater number of neighbors than what we have available in the training set.\n",
    "\n",
    "# instantiate learning model (k = 3)\n",
    "my_classifier = MyKNeighborsClassifier(n_neighbors=3)"
   ]
  },
  {
   "cell_type": "code",
   "execution_count": 9,
   "metadata": {},
   "outputs": [],
   "source": [
    "#Next we can train our model on the data. Remember in K-NN no training actually takes place.\n",
    "\n",
    "# fitting the model\n",
    "my_classifier.fit(X_train, y_train)"
   ]
  },
  {
   "cell_type": "code",
   "execution_count": 10,
   "metadata": {},
   "outputs": [],
   "source": [
    "#To evaluate the accuracy of our model, we test its performance on examples which it has not seen \n",
    "#such as those contained in the test set.\n",
    "\n",
    "# predicting the test set results\n",
    "my_y_pred = my_classifier.predict(X_test)"
   ]
  },
  {
   "cell_type": "code",
   "execution_count": 11,
   "metadata": {},
   "outputs": [
    {
     "name": "stdout",
     "output_type": "stream",
     "text": [
      "Accuracy: 95.56 %.\n"
     ]
    }
   ],
   "source": [
    "#We then check the predicted classes against the ground truth labels and use Scikit-Learn accuracy module \n",
    "#to calculate the accuracy of our classifier.\n",
    "from sklearn.metrics import confusion_matrix, accuracy_score\n",
    "accuracy = accuracy_score(y_test, my_y_pred)*100\n",
    "print('Accuracy: ' + str(round(accuracy, 2)) + ' %.')\n",
    "#Nuestro modelo alcanza una exactitud del 95.56%."
   ]
  },
  {
   "cell_type": "code",
   "execution_count": 12,
   "metadata": {},
   "outputs": [
    {
     "data": {
      "text/html": [
       "<div>\n",
       "<style scoped>\n",
       "    .dataframe tbody tr th:only-of-type {\n",
       "        vertical-align: middle;\n",
       "    }\n",
       "\n",
       "    .dataframe tbody tr th {\n",
       "        vertical-align: top;\n",
       "    }\n",
       "\n",
       "    .dataframe thead th {\n",
       "        text-align: right;\n",
       "    }\n",
       "</style>\n",
       "<table border=\"1\" class=\"dataframe\">\n",
       "  <thead>\n",
       "    <tr style=\"text-align: right;\">\n",
       "      <th></th>\n",
       "      <th>Id</th>\n",
       "      <th>SepalLengthCm</th>\n",
       "      <th>SepalWidthCm</th>\n",
       "      <th>PetalLengthCm</th>\n",
       "      <th>PetalWidthCm</th>\n",
       "      <th>Species</th>\n",
       "    </tr>\n",
       "  </thead>\n",
       "  <tbody>\n",
       "    <tr>\n",
       "      <th>0</th>\n",
       "      <td>1</td>\n",
       "      <td>5.1</td>\n",
       "      <td>3.5</td>\n",
       "      <td>1.4</td>\n",
       "      <td>0.2</td>\n",
       "      <td>Iris-setosa</td>\n",
       "    </tr>\n",
       "    <tr>\n",
       "      <th>1</th>\n",
       "      <td>2</td>\n",
       "      <td>4.9</td>\n",
       "      <td>3.0</td>\n",
       "      <td>1.4</td>\n",
       "      <td>0.2</td>\n",
       "      <td>Iris-setosa</td>\n",
       "    </tr>\n",
       "    <tr>\n",
       "      <th>2</th>\n",
       "      <td>3</td>\n",
       "      <td>4.7</td>\n",
       "      <td>3.2</td>\n",
       "      <td>1.3</td>\n",
       "      <td>0.2</td>\n",
       "      <td>Iris-setosa</td>\n",
       "    </tr>\n",
       "    <tr>\n",
       "      <th>3</th>\n",
       "      <td>4</td>\n",
       "      <td>4.6</td>\n",
       "      <td>3.1</td>\n",
       "      <td>1.5</td>\n",
       "      <td>0.2</td>\n",
       "      <td>Iris-setosa</td>\n",
       "    </tr>\n",
       "    <tr>\n",
       "      <th>4</th>\n",
       "      <td>5</td>\n",
       "      <td>5.0</td>\n",
       "      <td>3.6</td>\n",
       "      <td>1.4</td>\n",
       "      <td>0.2</td>\n",
       "      <td>Iris-setosa</td>\n",
       "    </tr>\n",
       "  </tbody>\n",
       "</table>\n",
       "</div>"
      ],
      "text/plain": [
       "   Id  SepalLengthCm  SepalWidthCm  PetalLengthCm  PetalWidthCm      Species\n",
       "0   1            5.1           3.5            1.4           0.2  Iris-setosa\n",
       "1   2            4.9           3.0            1.4           0.2  Iris-setosa\n",
       "2   3            4.7           3.2            1.3           0.2  Iris-setosa\n",
       "3   4            4.6           3.1            1.5           0.2  Iris-setosa\n",
       "4   5            5.0           3.6            1.4           0.2  Iris-setosa"
      ]
     },
     "execution_count": 12,
     "metadata": {},
     "output_type": "execute_result"
    }
   ],
   "source": [
    "#we would use K-means algorithm to find clusters in the Iris dataset. The Iris dataset is a classic in the machine learning community.\n",
    "#It contains 4 attributes (sepal length, sepal width, petal length, petal width) used to describe 3 species of the Iris plant.\n",
    "\n",
    "# display first five observations\n",
    "dataset.head(5)"
   ]
  },
  {
   "cell_type": "code",
   "execution_count": 13,
   "metadata": {},
   "outputs": [],
   "source": [
    "#We have 4 informative features and 6 columns. Id is an identifier while Species column contains the label. \n",
    "#Since this is a clustering task, we do not need labels as we would find clusters in an unsupervised manner.\n",
    "\n",
    "x = dataset.drop(['Id', 'Species'], axis=1)\n",
    "x = x.values # select values and convert dataframe to numpy array"
   ]
  },
  {
   "cell_type": "code",
   "execution_count": 14,
   "metadata": {},
   "outputs": [
    {
     "data": {
      "image/png": "[encoded data removed]",
      "text/plain": [
       "<matplotlib.figure.Figure at 0x1e7876f7b00>"
      ]
     },
     "metadata": {},
     "output_type": "display_data"
    }
   ],
   "source": [
    "#The above line of code selects all our features into x dropping Id and Species.\n",
    "#Because K-means is a flat clustering algorithm we need to specify the value of k (number of clusters) \n",
    "#before we run the algorithm. However, we do not know the optimal value for k, so we use a technique known as the elbow method. \n",
    "#The elbow method plots the percentage of variance explained as a result of number of clusters. \n",
    "#The optimal value of k from the graph would be the point where the sum of squared error (SSE) \n",
    "#does not improve significantly with increase in the number of clusters.\n",
    "\n",
    "# finding the optimum number of clusters for k-means classification\n",
    "from sklearn.cluster import KMeans\n",
    "wcss = [] # array to hold sum of squared distances within clusters\n",
    "\n",
    "for i in range(1, 11):\n",
    "    \n",
    "    kmeans = KMeans(n_clusters = i, init = 'k-means++', max_iter = 300, n_init = 10, random_state = 0)\n",
    "    kmeans.fit(x)\n",
    "    wcss.append(kmeans.inertia_)\n",
    "\n",
    "# plotting the results onto a line graph, allowing us to observe 'The elbow'\n",
    "plt.plot(range(1, 11), wcss)\n",
    "plt.title('The elbow method')\n",
    "plt.xlabel('Number of clusters')\n",
    "plt.ylabel('Within Cluster Sum of Squares') # within cluster sum of squares\n",
    "plt.show()"
   ]
  },
  {
   "cell_type": "code",
   "execution_count": 15,
   "metadata": {},
   "outputs": [],
   "source": [
    "#The k-means algorithm is run for 10 iterations, with n_clusters ranging from 1 to 10. At each iteration \n",
    "#the sum of squared error (SSE) is recoded. The sum of squared distances within each cluster configuration \n",
    "#is then plotted against the number of clusters. The “elbow” from the graph is 3 and this is the optimal value for k.\n",
    "\n",
    "#Now that we know that the optimal value for k is 3, we create a K-means object using Scikit-Learn and set \n",
    "#the parameter of n_clusters (number of clusters to generate) to 3.\n",
    "\n",
    "# creating the kmeans object\n",
    "kmeans = KMeans(n_clusters = 3, init = 'k-means++', max_iter = 300, n_init = 10, random_state = 0)"
   ]
  },
  {
   "cell_type": "code",
   "execution_count": 16,
   "metadata": {},
   "outputs": [],
   "source": [
    "#Next we use the fit_predict method on our object. This returns a computation of cluster centers \n",
    "#and cluster predictions for each sample.\n",
    "y_kmeans = kmeans.fit_predict(x)"
   ]
  },
  {
   "cell_type": "code",
   "execution_count": 17,
   "metadata": {},
   "outputs": [
    {
     "data": {
      "text/plain": [
       "<matplotlib.legend.Legend at 0x1e787bbd978>"
      ]
     },
     "execution_count": 17,
     "metadata": {},
     "output_type": "execute_result"
    },
    {
     "data": {
      "image/png": "[encoded data removed]",
      "text/plain": [
       "<matplotlib.figure.Figure at 0x1e7878c9320>"
      ]
     },
     "metadata": {},
     "output_type": "display_data"
    }
   ],
   "source": [
    "#We then plot the predictions for clusters using a scatter plot of the first two features.\n",
    "\n",
    "# visualising the clusters\n",
    "plt.scatter(x[y_kmeans == 0, 0], x[y_kmeans == 0, 1], s = 100, c = 'red', label = 'Iris-setosa')\n",
    "plt.scatter(x[y_kmeans == 1, 0], x[y_kmeans == 1, 1], s = 100, c = 'blue', label = 'Iris-versicolour')\n",
    "plt.scatter(x[y_kmeans == 2, 0], x[y_kmeans == 2, 1], s = 100, c = 'green', label = 'Iris-virginica')\n",
    "\n",
    "# plotting the centroids of the clusters\n",
    "plt.scatter(kmeans.cluster_centers_[:, 0], kmeans.cluster_centers_[:,1], s = 100, c = 'yellow', label = 'Centroids')\n",
    "\n",
    "plt.legend()\n",
    "\n",
    "#The plot shows 3 clusters - red, blue, green representing types of Iris plant, setosa, versicolour and virginica respectively. \n",
    "#The yellow point indicates the centroids which is at the center of each cluster.\n",
    "\n",
    "#Our K-means algorithm was able to find the correct number of clusters which is 3 because we used the elbow method. \n",
    "#It would be observed that the original dataset had three types (classes) of Iris plant. Iris setosa, Iris versicolour \n",
    "#and Iris virginica. If this were posed as a classification problem we would have had 3 classes into which \n",
    "#we would have classified data points. However, because it was posed as a clustering problem, \n",
    "#we were still able to find the optimum number of clusters - 3, which is equal to the number of classes in our dataset.\n",
    "\n",
    "#What this teaches us is that most classification problems and datasets can be used for unsupervised learning particularly \n",
    "#for clustering tasks. The main intuition to take out of this is that if we want to use a classification dataset for clustering,\n",
    "#we must remove labels, that is we remove the component of the data that was annotated by a human to enable supervision. \n",
    "#We then train on the raw dataset to discover inherent patterns contained in the data distribution."
   ]
  },
  {
   "cell_type": "code",
   "execution_count": null,
   "metadata": {},
   "outputs": [],
   "source": []
  }
 ],
 "metadata": {
  "kernelspec": {
   "display_name": "Python 3",
   "language": "python",
   "name": "python3"
  },
  "language_info": {
   "codemirror_mode": {
    "name": "ipython",
    "version": 3
   },
   "file_extension": ".py",
   "mimetype": "text/x-python",
   "name": "python",
   "nbconvert_exporter": "python",
   "pygments_lexer": "ipython3",
   "version": "3.6.4"
  }
 },
 "nbformat": 4,
 "nbformat_minor": 2
}
